{
  "nbformat": 4,
  "nbformat_minor": 0,
  "metadata": {
    "colab": {
      "provenance": [],
      "authorship_tag": "ABX9TyN6Bk6W1Rx6jb6EJ7ZeKQCv",
      "include_colab_link": true
    },
    "kernelspec": {
      "name": "python3",
      "display_name": "Python 3"
    },
    "language_info": {
      "name": "python"
    }
  },
  "cells": [
    {
      "cell_type": "markdown",
      "metadata": {
        "id": "view-in-github",
        "colab_type": "text"
      },
      "source": [
        "<a href=\"https://colab.research.google.com/github/nhemanth1103/Tensorflow_Learnings/blob/main/tensorflowDL.ipynb\" target=\"_parent\"><img src=\"https://colab.research.google.com/assets/colab-badge.svg\" alt=\"Open In Colab\"/></a>"
      ]
    },
    {
      "cell_type": "markdown",
      "source": [
        "#What is Tensorflow ?\n",
        "Tensorflow is an open source machine learning platform developed by google.\n",
        "\n",
        "**core concept:**It uses data flow graphs for numerical computaion\n"
      ],
      "metadata": {
        "id": "DT4r2WFH0Kb7"
      }
    },
    {
      "cell_type": "markdown",
      "source": [
        "**DATA FLOW GRAPHS**\n",
        "A data flow graph is a way of representing computations in terms of a graph where:\n",
        "\n",
        " **Nodes** represent operations (e.g., addition, multiplication).\n",
        "\n",
        "**Edges** represent the data (tensors) that flow between these operations.\n"
      ],
      "metadata": {
        "id": "nBzVwIxY5Tam"
      }
    },
    {
      "cell_type": "markdown",
      "source": [
        "TensorFlow 2.x Behavior\n",
        "In TensorFlow 2.x, eager execution is enabled by default, which means operations are evaluated immediately as they are called from Python. This makes it easier to work with and debug. You can directly print the values of the tensors using .numpy() method to convert them to numpy arrays.\n"
      ],
      "metadata": {
        "id": "iVHm0PffZszx"
      }
    },
    {
      "cell_type": "code",
      "source": [
        "import tensorflow.compat.v1 as tf\n",
        "tf.disable_v2_behavior()\n",
        "\n",
        "# Define the nodes and operations\n",
        "x = tf.constant(3.0)\n",
        "y = tf.constant(2.0)\n",
        "w = tf.constant(4.0)\n",
        "add = tf.add(x, y)\n",
        "multiply = tf.multiply(add, w)\n",
        "\n",
        "# Create a session to run the graph\n",
        "with tf.Session() as sess:\n",
        "    result = sess.run(multiply)\n",
        "    print(result)"
      ],
      "metadata": {
        "colab": {
          "base_uri": "https://localhost:8080/"
        },
        "id": "Al7mTvGy_7iZ",
        "outputId": "97c91e83-c18b-4f8d-d47f-087038c2225d"
      },
      "execution_count": null,
      "outputs": [
        {
          "output_type": "stream",
          "name": "stdout",
          "text": [
            "20.0\n"
          ]
        }
      ]
    },
    {
      "cell_type": "markdown",
      "source": [
        "**Basic Operation in TensorFlow**\n",
        "\n",
        "**Tensorflow creation**\n",
        "\n",
        "tf.constant():create constant tensor\n",
        "\n",
        "tf.variable():create mutable tensors\n",
        "\n",
        "tf.zeros()tf.ones():create tensor filled with zeros and ones\n",
        "\n",
        "tf.random.normal():create tensor filled with random values drawn from a normal distrubution"
      ],
      "metadata": {
        "id": "TVoTdvrZnQEP"
      }
    },
    {
      "cell_type": "code",
      "source": [
        "import tensorflow as tf\n",
        "\n",
        "#Ensures Tensorflow 2.x behaviour\n",
        "tf.compat.v1.enable_eager_execution()\n",
        "\n",
        "#tf.constant():create constant tensors\n",
        "const_tensor=tf.constant(5.0,dtype=tf.float32)\n",
        "print(\"constant Tensor:\",const_tensor.numpy())\n",
        "\n",
        "#tf.variable():create mutable tensors\n",
        "var_tensor=tf.Variable(5.0,dtype=tf.float32)\n",
        "print(\"variable tensor:\",var_tensor.numpy())\n",
        "\n",
        "#tf.zeros(),tf.ones():create tensors fill with zeros and ones\n",
        "zeros_tensors=tf.zeros([3,3],dtype=tf.float32)\n",
        "ones_tensors=tf.ones([3,3],dtype=tf.float32)\n",
        "print(\"zero tensor:\",zeros_tensors.numpy())\n",
        "print(\"ones tensor:\",ones_tensors.numpy())\n",
        "\n",
        "#tf.random.normal():create tensor filled eith random values draen from normal distrubution\n",
        "random_tensor=tf.random.normal([3,3],mean=0.0,stddev=1.0,dtype=tf.float32)\n",
        "print(\"Random values tensor:\",random_tensor.numpy())"
      ],
      "metadata": {
        "colab": {
          "base_uri": "https://localhost:8080/"
        },
        "id": "HWij9Axym75g",
        "outputId": "9c56723a-d9ce-42ef-e2be-9c0d49969f27"
      },
      "execution_count": null,
      "outputs": [
        {
          "output_type": "stream",
          "name": "stdout",
          "text": [
            "constant Tensor: 5.0\n",
            "variable tensor: 5.0\n",
            "zero tensor: [[0. 0. 0.]\n",
            " [0. 0. 0.]\n",
            " [0. 0. 0.]]\n",
            "ones tensor: [[1. 1. 1.]\n",
            " [1. 1. 1.]\n",
            " [1. 1. 1.]]\n",
            "Random values tensor: [[-0.17455043 -1.9261193   0.8137546 ]\n",
            " [ 0.24261793  0.25358298  0.04479776]\n",
            " [-0.50754935  0.67407566  0.14861229]]\n"
          ]
        }
      ]
    },
    {
      "cell_type": "markdown",
      "source": [
        "**Mathematical operations**\n",
        "\n",
        "Addition: tf.add() or '+'\n",
        "\n",
        "\n",
        "Subtraction: tf.subtract() or '-'\n",
        "\n",
        "\n",
        "Multiplication: tf.multiply() or '*'\n",
        "\n",
        "\n",
        "Division: tf.divide() or '/'\n",
        "\n",
        "\n",
        "Matrix multiplication: tf.matmul()"
      ],
      "metadata": {
        "id": "uQwZGFYUHeBx"
      }
    },
    {
      "cell_type": "code",
      "source": [
        "import tensorflow as tf\n",
        "\n",
        "#Ensures tensorflow 2.x behaviour\n",
        "tf.compat.v1.enable_eager_execution()\n",
        "\n",
        "a=tf.constant([[1,2],[3,4]],dtype=tf.float32)\n",
        "b=tf.constant([[5,0],[7,8]],dtype=tf.float32)\n",
        "\n",
        "# a) Addition\n",
        "add_result_1 = tf.add(a, b)\n",
        "add_result_2 = a + b  # Alternative way\n",
        "print(\"Addition (tf.add):\\n\", add_result_1.numpy())\n",
        "print(\"Addition (+):\\n\", add_result_2.numpy())\n",
        "\n",
        "# b) Subtraction\n",
        "sub_result_1 = tf.subtract(a, b)\n",
        "sub_result_2 = a - b  # Alternative way\n",
        "print(\"Subtraction (tf.subtract):\\n\", sub_result_1.numpy())\n",
        "print(\"Subtraction (-):\\n\", sub_result_2.numpy())\n",
        "\n",
        "# c) Multiplication (element-wise)\n",
        "mul_result_1 = tf.multiply(a, b)\n",
        "mul_result_2 = a * b  # Alternative way\n",
        "print(\"Multiplication (tf.multiply):\\n\", mul_result_1.numpy())\n",
        "print(\"Multiplication (*):\\n\", mul_result_2.numpy())\n",
        "\n",
        "# d) Division (element-wise)\n",
        "div_result_1 = tf.divide(a, b)\n",
        "div_result_2 = a / b  # Alternative way\n",
        "print(\"Division (tf.divide):\\n\", div_result_1.numpy())\n",
        "print(\"Division (/):\\n\", div_result_2.numpy())\n",
        "\n",
        "# e) Matrix multiplication\n",
        "matmul_result = tf.matmul(a, b)\n",
        "print(\"Matrix Multiplication (tf.matmul):\\n\", matmul_result.numpy())\n"
      ],
      "metadata": {
        "colab": {
          "base_uri": "https://localhost:8080/"
        },
        "id": "uFMchbxXHdiH",
        "outputId": "3b545e96-f1e2-4955-afce-0b7ff741d922"
      },
      "execution_count": null,
      "outputs": [
        {
          "output_type": "stream",
          "name": "stdout",
          "text": [
            "Addition (tf.add):\n",
            " [[ 6.  2.]\n",
            " [10. 12.]]\n",
            "Addition (+):\n",
            " [[ 6.  2.]\n",
            " [10. 12.]]\n",
            "Subtraction (tf.subtract):\n",
            " [[-4.  2.]\n",
            " [-4. -4.]]\n",
            "Subtraction (-):\n",
            " [[-4.  2.]\n",
            " [-4. -4.]]\n",
            "Multiplication (tf.multiply):\n",
            " [[ 5.  0.]\n",
            " [21. 32.]]\n",
            "Multiplication (*):\n",
            " [[ 5.  0.]\n",
            " [21. 32.]]\n",
            "Division (tf.divide):\n",
            " [[0.2               inf]\n",
            " [0.42857143 0.5       ]]\n",
            "Division (/):\n",
            " [[0.2               inf]\n",
            " [0.42857143 0.5       ]]\n",
            "Matrix Multiplication (tf.matmul):\n",
            " [[19. 16.]\n",
            " [43. 32.]]\n"
          ]
        }
      ]
    },
    {
      "cell_type": "markdown",
      "source": [
        "##Tensor Manipulation:\n",
        "\n",
        "Reshaping: tf.reshape()\n",
        "\n",
        "\n",
        "Transposing: tf.transpose()\n",
        "\n",
        "\n",
        "Concatenation: tf.concat()\n",
        "\n",
        "\n",
        "Slicing: tensor[start:end]\n"
      ],
      "metadata": {
        "id": "_RPUs4O8P9_O"
      }
    },
    {
      "cell_type": "code",
      "source": [
        "import tensorflow as tf\n",
        "\n",
        "#Ensure tensorflow 2.x behaviour\n",
        "tf.compat.v1.enable_eager_execution()\n",
        "\n",
        "#Defining a tensor\n",
        "tensor=tf.constant([[1, 2, 3], [4, 5, 6]],dtype=tf.float32)\n",
        "print(\"Origianl Tensor:\\n\",tensor.numpy())\n",
        "\n",
        "# a)Reshaping Tensor\n",
        "reshape_tensor=tf.reshape(tensor,[3,2])\n",
        "print(\"Reshaped Temsor:\\n\",reshape_tensor.numpy())\n",
        "\n",
        "# b) Transposing: tf.transpose()\n",
        "transposed_tensor = tf.transpose(tensor)\n",
        "print(\"Transposed Tensor:\\n\", transposed_tensor.numpy())\n",
        "\n",
        "# c) Concatenation: tf.concat():means merging\n",
        "tensor_a = tf.constant([[1, 2], [3, 4]], dtype=tf.float32)\n",
        "tensor_b = tf.constant([[5, 6], [7, 8]], dtype=tf.float32)\n",
        "concatenated_tensor = tf.concat([tensor_a, tensor_b], axis=0)  # Concatenate along rows\n",
        "print(\"Concatenated Tensor along rows:\\n\", concatenated_tensor.numpy())\n",
        "\n",
        "concatenated_tensor_1 = tf.concat([tensor_a, tensor_b], axis=1)  # Concatenate along columns\n",
        "print(\"Concatenated Tensor along columns:\\n\", concatenated_tensor_1.numpy())\n",
        "\n",
        "# d) Slicing: tensor[start:end]\n",
        "sliced_tensor = tensor[0:1, 1:3]  # Slice second row and second and third columns\n",
        "print(\"Sliced Tensor (first row, second and third columns):\\n\", sliced_tensor.numpy())\n"
      ],
      "metadata": {
        "id": "qkVQQ5JbP-h4",
        "colab": {
          "base_uri": "https://localhost:8080/"
        },
        "outputId": "83dc95f6-5e5f-46be-aac6-be2c329a7c52"
      },
      "execution_count": null,
      "outputs": [
        {
          "output_type": "stream",
          "name": "stdout",
          "text": [
            "Origianl Tensor:\n",
            " [[1. 2. 3.]\n",
            " [4. 5. 6.]]\n",
            "Reshaped Temsor:\n",
            " [[1. 2.]\n",
            " [3. 4.]\n",
            " [5. 6.]]\n",
            "Transposed Tensor:\n",
            " [[1. 4.]\n",
            " [2. 5.]\n",
            " [3. 6.]]\n",
            "Concatenated Tensor along rows:\n",
            " [[1. 2.]\n",
            " [3. 4.]\n",
            " [5. 6.]\n",
            " [7. 8.]]\n",
            "Concatenated Tensor along columns:\n",
            " [[1. 2. 5. 6.]\n",
            " [3. 4. 7. 8.]]\n",
            "Sliced Tensor (first row, second and third columns):\n",
            " [[2. 3.]]\n"
          ]
        }
      ]
    },
    {
      "cell_type": "markdown",
      "source": [
        "##TensorFlow Data Types\n",
        "\n",
        "a) Numeric Types:\n",
        "- tf.float32, tf.float64: Floating-point numbers\n",
        "- tf.int8, tf.int16, tf.int32, tf.int64: Signed integers\n",
        "- tf.uint8, tf.uint16: Unsigned integers\n",
        "- tf.bool: Boolean values\n",
        "\n",
        "b) String Type:\n",
        "- tf.string: For text data\n",
        "\n",
        "c) Complex Number Types:\n",
        "- tf.complex64, tf.complex128: Complex numbers\n",
        "\n",
        "d) Quantized Types:\n",
        "- tf.qint8, tf.quint8, tf.qint32: For quantized operations"
      ],
      "metadata": {
        "id": "zC8Yl4P5M1U4"
      }
    },
    {
      "cell_type": "code",
      "source": [
        "import tensorflow as tf\n",
        "\n",
        "\n",
        "# a) Numeric Types:\n",
        "# Floating-point numbers\n",
        "float32_tensor = tf.constant(3.14, dtype=tf.float32)\n",
        "float64_tensor = tf.constant(3.14, dtype=tf.float64)\n",
        "\n",
        "# Signed integers\n",
        "int8_tensor = tf.constant(127, dtype=tf.int8)\n",
        "int16_tensor = tf.constant(32767, dtype=tf.int16)\n",
        "int32_tensor = tf.constant(2147483647, dtype=tf.int32)\n",
        "int64_tensor = tf.constant(9223372036854775807, dtype=tf.int64)\n",
        "\n",
        "# Unsigned integers\n",
        "uint8_tensor = tf.constant(255, dtype=tf.uint8)\n",
        "uint16_tensor = tf.constant(65535, dtype=tf.uint16)\n",
        "\n",
        "# Boolean\n",
        "bool_tensor = tf.constant(True, dtype=tf.bool)\n",
        "\n",
        "# b) String Type:\n",
        "string_tensor = tf.constant(\"Hello, TensorFlow!\", dtype=tf.string)\n",
        "\n",
        "# c) Complex Number Types:\n",
        "complex64_tensor = tf.constant(1 + 2j, dtype=tf.complex64)\n",
        "complex128_tensor = tf.constant(1 + 2j, dtype=tf.complex128)\n",
        "\n",
        "# d) Quantized Types:\n",
        "# These are typically used in specific quantization contexts\n",
        "qint8_tensor = tf.quantization.quantize(tf.constant([-1.0, 0.0, 1.0]), -1.0, 1.0, tf.qint8)\n",
        "quint8_tensor = tf.quantization.quantize(tf.constant([0.0, 1.0, 2.0]), 0.0, 2.0, tf.quint8)\n",
        "qint32_tensor = tf.quantization.quantize(tf.constant([-1.0, 0.0, 1.0]), -1.0, 1.0, tf.qint32)\n",
        "\n",
        "# Print out the tensors to see their values and types\n",
        "print(\"float32:\", float32_tensor)\n",
        "print(\"float64:\", float64_tensor)\n",
        "print(\"int8:\", int8_tensor)\n",
        "print(\"int16:\", int16_tensor)\n",
        "print(\"int32:\", int32_tensor)\n",
        "print(\"int64:\", int64_tensor)\n",
        "print(\"uint8:\", uint8_tensor)\n",
        "print(\"uint16:\", uint16_tensor)\n",
        "print(\"bool:\", bool_tensor)\n",
        "print(\"string:\", string_tensor)\n",
        "print(\"complex64:\", complex64_tensor)\n",
        "print(\"complex128:\", complex128_tensor)\n",
        "print(\"qint8:\", qint8_tensor)\n",
        "print(\"quint8:\", quint8_tensor)\n",
        "print(\"qint32:\", qint32_tensor)"
      ],
      "metadata": {
        "colab": {
          "base_uri": "https://localhost:8080/"
        },
        "id": "CQbJ69guM1Cj",
        "outputId": "a09b1ba8-b28b-4e0b-d5ec-40495f66e754"
      },
      "execution_count": null,
      "outputs": [
        {
          "output_type": "stream",
          "name": "stdout",
          "text": [
            "float32: tf.Tensor(3.14, shape=(), dtype=float32)\n",
            "float64: tf.Tensor(3.14, shape=(), dtype=float64)\n",
            "int8: tf.Tensor(127, shape=(), dtype=int8)\n",
            "int16: tf.Tensor(32767, shape=(), dtype=int16)\n",
            "int32: tf.Tensor(2147483647, shape=(), dtype=int32)\n",
            "int64: tf.Tensor(9223372036854775807, shape=(), dtype=int64)\n",
            "uint8: tf.Tensor(255, shape=(), dtype=uint8)\n",
            "uint16: tf.Tensor(65535, shape=(), dtype=uint16)\n",
            "bool: tf.Tensor(True, shape=(), dtype=bool)\n",
            "string: tf.Tensor(b'Hello, TensorFlow!', shape=(), dtype=string)\n",
            "complex64: tf.Tensor((1+2j), shape=(), dtype=complex64)\n",
            "complex128: tf.Tensor((1+2j), shape=(), dtype=complex128)\n",
            "qint8: QuantizeV2(output=<tf.Tensor: shape=(3,), dtype=qint8, numpy=array([-128,   -1,  127], dtype=int8)>, output_min=<tf.Tensor: shape=(), dtype=float32, numpy=-1.0>, output_max=<tf.Tensor: shape=(), dtype=float32, numpy=1.0>)\n",
            "quint8: QuantizeV2(output=<tf.Tensor: shape=(3,), dtype=quint8, numpy=array([  0, 128, 255], dtype=uint8)>, output_min=<tf.Tensor: shape=(), dtype=float32, numpy=0.0>, output_max=<tf.Tensor: shape=(), dtype=float32, numpy=2.0>)\n",
            "qint32: QuantizeV2(output=<tf.Tensor: shape=(3,), dtype=qint32, numpy=array([-2147483648,           0, -2147483648], dtype=int32)>, output_min=<tf.Tensor: shape=(), dtype=float32, numpy=-1.0>, output_max=<tf.Tensor: shape=(), dtype=float32, numpy=1.0>)\n"
          ]
        }
      ]
    },
    {
      "cell_type": "markdown",
      "source": [
        "## Defining Operations in TensorFlow\n",
        "\n",
        "Defining a Simple Function: Use standard Python function definition to create operations. In TensorFlow 2.x, these are executed eagerly by default.\n",
        "\n",
        "\n",
        "Using tf.function for Performance Optimization:\n",
        "- Decorate functions with @tf.function to compile them into a static graph for faster execution.\n",
        "- tf.function improves performance by optimizing and parallelizing the execution of operations.\n"
      ],
      "metadata": {
        "id": "l0mlUHE2O2iW"
      }
    },
    {
      "cell_type": "code",
      "source": [
        "import tensorflow as tf\n",
        "\n",
        "tf.compat.v1.enable_eager_execution()\n",
        "\n",
        "def simple_operation(a,b):\n",
        "  return tf.add(a,b)\n",
        "\n",
        "@tf.function\n",
        "def optimized_operation(a,b):\n",
        "  return tf.add(a,b)\n",
        "\n",
        "a=tf.constant(10)\n",
        "b=tf.constant(20)\n",
        "\n",
        "result_simple=simple_operation(a,b)\n",
        "result_optimized=optimized_operation(a,b)\n",
        "\n",
        "print(\"simple operation result:\",result_simple.numpy())\n",
        "print(\"optimized operation result:\",result_optimized.numpy())"
      ],
      "metadata": {
        "colab": {
          "base_uri": "https://localhost:8080/"
        },
        "id": "cfujGTrnO29d",
        "outputId": "13dfd695-89fe-4f99-cecb-016bb5456cfa"
      },
      "execution_count": null,
      "outputs": [
        {
          "output_type": "stream",
          "name": "stdout",
          "text": [
            "simple operation result: 30\n",
            "optimized operation result: 30\n"
          ]
        }
      ]
    },
    {
      "cell_type": "markdown",
      "source": [
        "##Layering Nested Operations\n",
        "Creating Complex Operations by Nesting Functions"
      ],
      "metadata": {
        "id": "oT5rAe9FMikk"
      }
    },
    {
      "cell_type": "code",
      "source": [
        "import tensorflow as tf\n",
        "\n",
        "# Define nested functions\n",
        "def add_and_multiply(a, b):\n",
        "    add_result = tf.add(a, b)\n",
        "    mul_result = tf.multiply(a, b)\n",
        "    return add_result, mul_result\n",
        "\n",
        "# Higher-level function that uses the nested function\n",
        "def complex_operation(x, y, z):\n",
        "    add_mul_result = add_and_multiply(x, y)\n",
        "    final_result = tf.subtract(add_mul_result[0], z)\n",
        "    return final_result\n",
        "\n",
        "# Sample inputs\n",
        "x = tf.constant(5)\n",
        "y = tf.constant(3)\n",
        "z = tf.constant(2)\n",
        "\n",
        "# Execute the complex operation\n",
        "result = complex_operation(x, y, z)\n",
        "print(\"Complex Operation Result:\", result.numpy())"
      ],
      "metadata": {
        "id": "JfmTRweVMiP_"
      },
      "execution_count": null,
      "outputs": []
    },
    {
      "cell_type": "markdown",
      "source": [
        "#5 Practice Problems"
      ],
      "metadata": {
        "id": "dXYCioxqZolS"
      }
    },
    {
      "cell_type": "markdown",
      "source": [
        "1.create a tensor 2*3 floating point number values\n",
        "[[1.2, 3.4, 5.6], [7.8, 9.0, 1.1]]"
      ],
      "metadata": {
        "id": "h5snOInE1TZs"
      }
    },
    {
      "cell_type": "code",
      "source": [
        "import tensorflow as tf\n",
        "#creating a tensor\n",
        "tensor_1=tf.constant([[1.2, 3.4, 5.6], [7.8, 9.0, 1.1]],dtype=tf.float32)\n",
        "#print the tensor shape and it's type\n",
        "print(\"Tensor:\\n\",tensor_1)\n",
        "print(\"Tensor shape:\",tensor_1.shape)\n",
        "print(\"Tensor type:\",tensor_1.dtype)"
      ],
      "metadata": {
        "id": "VNoM07IC1RJ1",
        "colab": {
          "base_uri": "https://localhost:8080/"
        },
        "outputId": "d3a3782c-3bc2-4a29-87df-57e250e4f68c"
      },
      "execution_count": null,
      "outputs": [
        {
          "output_type": "stream",
          "name": "stdout",
          "text": [
            "Tensor:\n",
            " tf.Tensor(\n",
            "[[1.2 3.4 5.6]\n",
            " [7.8 9.  1.1]], shape=(2, 3), dtype=float32)\n",
            "Tensor shape: (2, 3)\n",
            "Tensor type: <dtype: 'float32'>\n"
          ]
        }
      ]
    },
    {
      "cell_type": "markdown",
      "source": [
        "Problem 2: Tensor Operations\n",
        "Create two 3x3 tensors and perform element-wise addition, subtraction, and multiplication.[[1, 2, 3], [4, 5, 6], [7, 8, 9]]\n",
        "[[9, 8, 7], [6, 5, 4], [3, 2, 1]]\n"
      ],
      "metadata": {
        "id": "2EVAt2K97-Mw"
      }
    },
    {
      "cell_type": "code",
      "source": [
        "import tensorflow as tf\n",
        "tensor_1=tf.constant([[1, 2, 3], [4, 5, 6], [7, 8, 9]],dtype=tf.int32)\n",
        "tensor_2=tf.constant([[9, 8, 7], [6, 5, 4], [3, 2, 1]],dtype=tf.int32)\n",
        "add_tensors=tf.add(tensor_1,tensor_2)\n",
        "sub_tensor=tf.subtract(tensor_1,tensor_2)\n",
        "div_tensor=tf.divide(tensor_1,tensor_2)\n",
        "multiply_tensor=tf.multiply(tensor_1,tensor_2)\n",
        "print(\"Additional results:\\n\",add_tensors)\n",
        "print(\"substraction result:\\n\",sub_tensor)\n",
        "print(\"division results\\n\",div_tensor)\n",
        "print(\"multiply results\\n\",multiply_tensor)"
      ],
      "metadata": {
        "colab": {
          "base_uri": "https://localhost:8080/"
        },
        "id": "4doK-HqP79aq",
        "outputId": "16e4dbed-7185-45fb-977a-8682bdb449e6"
      },
      "execution_count": null,
      "outputs": [
        {
          "output_type": "stream",
          "name": "stdout",
          "text": [
            "Additional results:\n",
            " tf.Tensor(\n",
            "[[10 10 10]\n",
            " [10 10 10]\n",
            " [10 10 10]], shape=(3, 3), dtype=int32)\n",
            "substraction result:\n",
            " tf.Tensor(\n",
            "[[-8 -6 -4]\n",
            " [-2  0  2]\n",
            " [ 4  6  8]], shape=(3, 3), dtype=int32)\n",
            "division results\n",
            " tf.Tensor(\n",
            "[[0.11111111 0.25       0.42857143]\n",
            " [0.66666667 1.         1.5       ]\n",
            " [2.33333333 4.         9.        ]], shape=(3, 3), dtype=float64)\n",
            "multiply results\n",
            " tf.Tensor(\n",
            "[[ 9 16 21]\n",
            " [24 25 24]\n",
            " [21 16  9]], shape=(3, 3), dtype=int32)\n"
          ]
        }
      ]
    },
    {
      "cell_type": "markdown",
      "source": [
        "Problem 3: Reshaping a Tensor\n",
        "Create a tensor of shape (3, 2) and reshape it into a tensor of shape (2, 3).values[[1, 2], [3, 4], [5, 6]]\n"
      ],
      "metadata": {
        "id": "Vgcx_ADLBssE"
      }
    },
    {
      "cell_type": "code",
      "source": [
        "import tensorflow as tf\n",
        "tensor_a=tf.constant([[1, 2], [3, 4], [5, 6]],dtype=tf.int32)\n",
        "tensor_b=tf.reshape(tensor_a,[2,3])\n",
        "print(tensor_b)"
      ],
      "metadata": {
        "colab": {
          "base_uri": "https://localhost:8080/"
        },
        "id": "PbeUd0S7BsKB",
        "outputId": "a86fbde6-2908-495e-9a21-dd33c1be1eb8"
      },
      "execution_count": null,
      "outputs": [
        {
          "output_type": "stream",
          "name": "stdout",
          "text": [
            "tf.Tensor(\n",
            "[[1 2 3]\n",
            " [4 5 6]], shape=(2, 3), dtype=int32)\n"
          ]
        }
      ]
    },
    {
      "cell_type": "markdown",
      "source": [
        "Problem 4: Creating Zeros and Ones Tensors\n",
        "Create a tensor of all zeros of shape (3, 3) and another tensor of all ones of shape (2, 4)."
      ],
      "metadata": {
        "id": "LeLGs_P-DH8b"
      }
    },
    {
      "cell_type": "code",
      "source": [
        "import tensorflow as tf\n",
        "tensor_zeros=tf.zeros([3,3])\n",
        "tensor_ones=tf.ones({2,4})\n",
        "print(\"zeros tensor:\\n\",tensor_zeros)\n",
        "print(\"ones tensor:\\n\",tensor_ones)"
      ],
      "metadata": {
        "colab": {
          "base_uri": "https://localhost:8080/"
        },
        "id": "ToJFmUPDDHfH",
        "outputId": "a61f7a19-fefe-44cf-c36a-a4e8b419925a"
      },
      "execution_count": null,
      "outputs": [
        {
          "output_type": "stream",
          "name": "stdout",
          "text": [
            "zeros tensor:\n",
            " tf.Tensor(\n",
            "[[0. 0. 0.]\n",
            " [0. 0. 0.]\n",
            " [0. 0. 0.]], shape=(3, 3), dtype=float32)\n",
            "ones tensor:\n",
            " tf.Tensor(\n",
            "[[1. 1. 1. 1.]\n",
            " [1. 1. 1. 1.]], shape=(2, 4), dtype=float32)\n"
          ]
        }
      ]
    },
    {
      "cell_type": "markdown",
      "source": [
        "Problem 5: Random Tensors\n",
        "Generate a 4x4 tensor with random values from a normal distribution and a 2x2 tensor with random values from a uniform distribution.....?UNIFORM:Values are equally likely within a given range(minval,maxval).\n",
        "NORMAL:Values cluster around the mean, following a bell curve(mean,stddev)."
      ],
      "metadata": {
        "id": "ehwauEOGFTPj"
      }
    },
    {
      "cell_type": "code",
      "source": [
        "import tensorflow as tf\n",
        "normal_tensor=tf.random.normal([4,4],mean=0,stddev=1)\n",
        "uniform_tensor=tf.random.uniform([2,2],minval=0,maxval=1)\n",
        "print(\"Normal distrubution tensor:\\n\",normal_tensor)\n",
        "print(\"Uniform distrubution tensor:\\n\",uniform_tensor)"
      ],
      "metadata": {
        "colab": {
          "base_uri": "https://localhost:8080/"
        },
        "id": "aKd-l5yOFS87",
        "outputId": "c3c54c3a-cb3e-4a35-ee93-fc77ea02a347"
      },
      "execution_count": null,
      "outputs": [
        {
          "output_type": "stream",
          "name": "stdout",
          "text": [
            "Normal distrubution tensor:\n",
            " tf.Tensor(\n",
            "[[-1.0432969   0.90708536  0.7989642  -1.0304294 ]\n",
            " [-0.08852495 -0.21376167 -0.25020835 -0.57017976]\n",
            " [ 0.48617557  1.3563063  -0.8597052  -0.7922548 ]\n",
            " [ 1.2525339  -0.39352372 -0.4467469  -0.4530071 ]], shape=(4, 4), dtype=float32)\n",
            "Uniform distrubution tensor:\n",
            " tf.Tensor(\n",
            "[[0.69784975 0.5108408 ]\n",
            " [0.14973617 0.84783447]], shape=(2, 2), dtype=float32)\n"
          ]
        }
      ]
    },
    {
      "cell_type": "markdown",
      "source": [
        "## Building and Executing Computational Graphs in TensorFlow\n",
        "TensorFlow allows you to build and execute computational graphs. With TensorFlow 2.x, eager execution is enabled by default, making it easier to develop and debug models. However, you can still build and execute static computational graphs using @tf.function for performance optimization. Here’s a detailed look at both approaches:"
      ],
      "metadata": {
        "id": "-nePeOGMaHDl"
      }
    },
    {
      "cell_type": "markdown",
      "source": [
        "1.**Eager Execution (Dynamic Graphs)**\n",
        "\n",
        "Eager execution allows operations to be executed immediately, providing a more intuitive and interactive way to build and test your models."
      ],
      "metadata": {
        "id": "ODyNVARCad3Z"
      }
    },
    {
      "cell_type": "code",
      "source": [
        "import tensorflow as tf\n",
        "\n",
        "# Enable eager execution (default in TensorFlow 2.x)\n",
        "print(\"Eager execution:\", tf.executing_eagerly())\n",
        "\n",
        "# Define tensors\n",
        "a = tf.constant(2.0)\n",
        "b = tf.constant(3.0)\n",
        "\n",
        "# Perform operations\n",
        "c = a + b\n",
        "d = a * b\n",
        "\n",
        "# Print results\n",
        "print(\"Addition result (eager execution):\", c.numpy())\n",
        "print(\"Multiplication result (eager execution):\", d.numpy())\n"
      ],
      "metadata": {
        "colab": {
          "base_uri": "https://localhost:8080/"
        },
        "id": "-XQvj2OZaGy0",
        "outputId": "a49fca80-dcb1-4b34-9fc2-3704744bd66c"
      },
      "execution_count": null,
      "outputs": [
        {
          "output_type": "stream",
          "name": "stdout",
          "text": [
            "Eager execution: True\n",
            "Addition result (eager execution): 5.0\n",
            "Multiplication result (eager execution): 6.0\n"
          ]
        }
      ]
    },
    {
      "cell_type": "markdown",
      "source": [
        "2. Static Graphs (Using @tf.function)\n",
        "Static graphs allow TensorFlow to optimize and parallelize the execution of operations, improving performance for repeated executions.\n",
        "\n",
        "Example: Static Graph Execution with @tf.function"
      ],
      "metadata": {
        "id": "VtMb3K0ldRE-"
      }
    },
    {
      "cell_type": "code",
      "source": [
        "import tensorflow as tf\n",
        "\n",
        "# Define a function using tf.function to create a static graph\n",
        "@tf.function\n",
        "def compute_operations(a, b):\n",
        "    c = tf.add(a, b)\n",
        "    d = tf.multiply(a, b)\n",
        "    return c, d\n",
        "\n",
        "# Define tensors\n",
        "a = tf.constant(2.0)\n",
        "b = tf.constant(3.0)\n",
        "\n",
        "# Execute operations\n",
        "c, d = compute_operations(a, b)\n",
        "\n",
        "# Print results\n",
        "print(\"Addition result (static graph):\", c.numpy())\n",
        "print(\"Multiplication result (static graph):\", d.numpy())\n"
      ],
      "metadata": {
        "id": "hJqAz_09dSHM"
      },
      "execution_count": null,
      "outputs": []
    },
    {
      "cell_type": "markdown",
      "source": [
        "**Activation functions** are mathematical functions used in neural networks to introduce non-linearity into the model. They are a critical component because they enable neural networks to learn and represent complex patterns. Without activation functions, a neural network would simply be a linear regression model, regardless of the number of layers.\n"
      ],
      "metadata": {
        "id": "DzMleyhB7JNC"
      }
    },
    {
      "cell_type": "code",
      "source": [
        "import tensorflow as tf\n",
        "\n",
        "# Ensure TensorFlow 2.x behavior\n",
        "tf.compat.v1.enable_eager_execution()\n",
        "\n",
        "# Define a sample tensor\n",
        "tensor = tf.constant([-1.0, 0.0, 1.0], dtype=tf.float32)\n",
        "print(\"Original Tensor:\\n\", tensor.numpy())\n",
        "\n",
        "# a) ReLU (Rectified Linear Unit): tf.nn.relu()\n",
        "relu_tensor = tf.nn.relu(tensor)\n",
        "print(\"ReLU Applied:\\n\", relu_tensor.numpy())\n",
        "\n",
        "# b) Sigmoid: tf.nn.sigmoid()\n",
        "sigmoid_tensor = tf.nn.sigmoid(tensor)\n",
        "print(\"Sigmoid Applied:\\n\", sigmoid_tensor.numpy())\n",
        "\n",
        "# c) Tanh (Hyperbolic Tangent): tf.nn.tanh()\n",
        "tanh_tensor = tf.nn.tanh(tensor)\n",
        "print(\"Tanh Applied:\\n\", tanh_tensor.numpy())\n"
      ],
      "metadata": {
        "colab": {
          "base_uri": "https://localhost:8080/"
        },
        "id": "o2D4SUsD7PlC",
        "outputId": "54288451-d8e4-4e31-81e2-cabc567b51ab"
      },
      "execution_count": null,
      "outputs": [
        {
          "output_type": "stream",
          "name": "stdout",
          "text": [
            "Original Tensor:\n",
            " [-1.  0.  1.]\n",
            "ReLU Applied:\n",
            " [0. 0. 1.]\n",
            "Sigmoid Applied:\n",
            " [0.26894143 0.5        0.7310586 ]\n",
            "Tanh Applied:\n",
            " [-0.7615942  0.         0.7615942]\n"
          ]
        }
      ]
    },
    {
      "cell_type": "markdown",
      "source": [
        "## Building Neural Networks with Multiple Layers\n"
      ],
      "metadata": {
        "id": "kBmCMyDxN0M-"
      }
    },
    {
      "cell_type": "code",
      "source": [
        "import tensorflow as tf\n",
        "from tensorflow.keras import layers, models\n",
        "\n",
        "#Define a simple neural network\n",
        "model=models.Sequential([\n",
        "    layers.Dense(32,activation='relu',input_shape=(64,)),\n",
        "    layers.Dense(64,activation='relu'),\n",
        "    layers.Dense(10,activation='softmax')\n",
        "])\n",
        "\n",
        "#print the model summary\n",
        "model.summary()"
      ],
      "metadata": {
        "id": "Rf2fFupa7kGq",
        "colab": {
          "base_uri": "https://localhost:8080/",
          "height": 297
        },
        "outputId": "2ca0354f-9215-4e58-912b-cbf2a6bcb9d1"
      },
      "execution_count": null,
      "outputs": [
        {
          "output_type": "stream",
          "name": "stderr",
          "text": [
            "/usr/local/lib/python3.10/dist-packages/keras/src/layers/core/dense.py:87: UserWarning: Do not pass an `input_shape`/`input_dim` argument to a layer. When using Sequential models, prefer using an `Input(shape)` object as the first layer in the model instead.\n",
            "  super().__init__(activity_regularizer=activity_regularizer, **kwargs)\n"
          ]
        },
        {
          "output_type": "display_data",
          "data": {
            "text/plain": [
              "\u001b[1mModel: \"sequential\"\u001b[0m\n"
            ],
            "text/html": [
              "<pre style=\"white-space:pre;overflow-x:auto;line-height:normal;font-family:Menlo,'DejaVu Sans Mono',consolas,'Courier New',monospace\"><span style=\"font-weight: bold\">Model: \"sequential\"</span>\n",
              "</pre>\n"
            ]
          },
          "metadata": {}
        },
        {
          "output_type": "display_data",
          "data": {
            "text/plain": [
              "┏━━━━━━━━━━━━━━━━━━━━━━━━━━━━━━━━━━━━━━┳━━━━━━━━━━━━━━━━━━━━━━━━━━━━━┳━━━━━━━━━━━━━━━━━┓\n",
              "┃\u001b[1m \u001b[0m\u001b[1mLayer (type)                        \u001b[0m\u001b[1m \u001b[0m┃\u001b[1m \u001b[0m\u001b[1mOutput Shape               \u001b[0m\u001b[1m \u001b[0m┃\u001b[1m \u001b[0m\u001b[1m        Param #\u001b[0m\u001b[1m \u001b[0m┃\n",
              "┡━━━━━━━━━━━━━━━━━━━━━━━━━━━━━━━━━━━━━━╇━━━━━━━━━━━━━━━━━━━━━━━━━━━━━╇━━━━━━━━━━━━━━━━━┩\n",
              "│ dense (\u001b[38;5;33mDense\u001b[0m)                        │ (\u001b[38;5;45mNone\u001b[0m, \u001b[38;5;34m32\u001b[0m)                  │           \u001b[38;5;34m2,080\u001b[0m │\n",
              "├──────────────────────────────────────┼─────────────────────────────┼─────────────────┤\n",
              "│ dense_1 (\u001b[38;5;33mDense\u001b[0m)                      │ (\u001b[38;5;45mNone\u001b[0m, \u001b[38;5;34m64\u001b[0m)                  │           \u001b[38;5;34m2,112\u001b[0m │\n",
              "├──────────────────────────────────────┼─────────────────────────────┼─────────────────┤\n",
              "│ dense_2 (\u001b[38;5;33mDense\u001b[0m)                      │ (\u001b[38;5;45mNone\u001b[0m, \u001b[38;5;34m10\u001b[0m)                  │             \u001b[38;5;34m650\u001b[0m │\n",
              "└──────────────────────────────────────┴─────────────────────────────┴─────────────────┘\n"
            ],
            "text/html": [
              "<pre style=\"white-space:pre;overflow-x:auto;line-height:normal;font-family:Menlo,'DejaVu Sans Mono',consolas,'Courier New',monospace\">┏━━━━━━━━━━━━━━━━━━━━━━━━━━━━━━━━━━━━━━┳━━━━━━━━━━━━━━━━━━━━━━━━━━━━━┳━━━━━━━━━━━━━━━━━┓\n",
              "┃<span style=\"font-weight: bold\"> Layer (type)                         </span>┃<span style=\"font-weight: bold\"> Output Shape                </span>┃<span style=\"font-weight: bold\">         Param # </span>┃\n",
              "┡━━━━━━━━━━━━━━━━━━━━━━━━━━━━━━━━━━━━━━╇━━━━━━━━━━━━━━━━━━━━━━━━━━━━━╇━━━━━━━━━━━━━━━━━┩\n",
              "│ dense (<span style=\"color: #0087ff; text-decoration-color: #0087ff\">Dense</span>)                        │ (<span style=\"color: #00d7ff; text-decoration-color: #00d7ff\">None</span>, <span style=\"color: #00af00; text-decoration-color: #00af00\">32</span>)                  │           <span style=\"color: #00af00; text-decoration-color: #00af00\">2,080</span> │\n",
              "├──────────────────────────────────────┼─────────────────────────────┼─────────────────┤\n",
              "│ dense_1 (<span style=\"color: #0087ff; text-decoration-color: #0087ff\">Dense</span>)                      │ (<span style=\"color: #00d7ff; text-decoration-color: #00d7ff\">None</span>, <span style=\"color: #00af00; text-decoration-color: #00af00\">64</span>)                  │           <span style=\"color: #00af00; text-decoration-color: #00af00\">2,112</span> │\n",
              "├──────────────────────────────────────┼─────────────────────────────┼─────────────────┤\n",
              "│ dense_2 (<span style=\"color: #0087ff; text-decoration-color: #0087ff\">Dense</span>)                      │ (<span style=\"color: #00d7ff; text-decoration-color: #00d7ff\">None</span>, <span style=\"color: #00af00; text-decoration-color: #00af00\">10</span>)                  │             <span style=\"color: #00af00; text-decoration-color: #00af00\">650</span> │\n",
              "└──────────────────────────────────────┴─────────────────────────────┴─────────────────┘\n",
              "</pre>\n"
            ]
          },
          "metadata": {}
        },
        {
          "output_type": "display_data",
          "data": {
            "text/plain": [
              "\u001b[1m Total params: \u001b[0m\u001b[38;5;34m4,842\u001b[0m (18.91 KB)\n"
            ],
            "text/html": [
              "<pre style=\"white-space:pre;overflow-x:auto;line-height:normal;font-family:Menlo,'DejaVu Sans Mono',consolas,'Courier New',monospace\"><span style=\"font-weight: bold\"> Total params: </span><span style=\"color: #00af00; text-decoration-color: #00af00\">4,842</span> (18.91 KB)\n",
              "</pre>\n"
            ]
          },
          "metadata": {}
        },
        {
          "output_type": "display_data",
          "data": {
            "text/plain": [
              "\u001b[1m Trainable params: \u001b[0m\u001b[38;5;34m4,842\u001b[0m (18.91 KB)\n"
            ],
            "text/html": [
              "<pre style=\"white-space:pre;overflow-x:auto;line-height:normal;font-family:Menlo,'DejaVu Sans Mono',consolas,'Courier New',monospace\"><span style=\"font-weight: bold\"> Trainable params: </span><span style=\"color: #00af00; text-decoration-color: #00af00\">4,842</span> (18.91 KB)\n",
              "</pre>\n"
            ]
          },
          "metadata": {}
        },
        {
          "output_type": "display_data",
          "data": {
            "text/plain": [
              "\u001b[1m Non-trainable params: \u001b[0m\u001b[38;5;34m0\u001b[0m (0.00 B)\n"
            ],
            "text/html": [
              "<pre style=\"white-space:pre;overflow-x:auto;line-height:normal;font-family:Menlo,'DejaVu Sans Mono',consolas,'Courier New',monospace\"><span style=\"font-weight: bold\"> Non-trainable params: </span><span style=\"color: #00af00; text-decoration-color: #00af00\">0</span> (0.00 B)\n",
              "</pre>\n"
            ]
          },
          "metadata": {}
        }
      ]
    },
    {
      "cell_type": "markdown",
      "source": [
        "Explanation:\n",
        "\n",
        "Sequential API: Use tf.keras.Sequential to stack layers in a linear manner.\n",
        "\n",
        "Dense Layers: Define fully connected layers with tf.keras.layers.Dense."
      ],
      "metadata": {
        "id": "H9sGqn3bP_t3"
      }
    },
    {
      "cell_type": "code",
      "source": [
        "import tensorflow as tf\n",
        "from tensorflow.keras import layers, models\n",
        "\n",
        "# Define a more complex model\n",
        "model = models.Sequential()\n",
        "\n",
        "# Adding layers incrementally\n",
        "model.add(layers.Dense(32, activation='relu', input_shape=(64,)))\n",
        "model.add(layers.Dense(64, activation='relu'))\n",
        "model.add(layers.Dense(10, activation='softmax'))\n",
        "\n",
        "# Print the model summary\n",
        "model.summary()\n"
      ],
      "metadata": {
        "colab": {
          "base_uri": "https://localhost:8080/",
          "height": 242
        },
        "id": "2dtfsq4KQA21",
        "outputId": "6c1cbdce-17fe-453d-e275-274d49b8964f"
      },
      "execution_count": null,
      "outputs": [
        {
          "output_type": "display_data",
          "data": {
            "text/plain": [
              "\u001b[1mModel: \"sequential_2\"\u001b[0m\n"
            ],
            "text/html": [
              "<pre style=\"white-space:pre;overflow-x:auto;line-height:normal;font-family:Menlo,'DejaVu Sans Mono',consolas,'Courier New',monospace\"><span style=\"font-weight: bold\">Model: \"sequential_2\"</span>\n",
              "</pre>\n"
            ]
          },
          "metadata": {}
        },
        {
          "output_type": "display_data",
          "data": {
            "text/plain": [
              "┏━━━━━━━━━━━━━━━━━━━━━━━━━━━━━━━━━━━━━━┳━━━━━━━━━━━━━━━━━━━━━━━━━━━━━┳━━━━━━━━━━━━━━━━━┓\n",
              "┃\u001b[1m \u001b[0m\u001b[1mLayer (type)                        \u001b[0m\u001b[1m \u001b[0m┃\u001b[1m \u001b[0m\u001b[1mOutput Shape               \u001b[0m\u001b[1m \u001b[0m┃\u001b[1m \u001b[0m\u001b[1m        Param #\u001b[0m\u001b[1m \u001b[0m┃\n",
              "┡━━━━━━━━━━━━━━━━━━━━━━━━━━━━━━━━━━━━━━╇━━━━━━━━━━━━━━━━━━━━━━━━━━━━━╇━━━━━━━━━━━━━━━━━┩\n",
              "│ dense_6 (\u001b[38;5;33mDense\u001b[0m)                      │ (\u001b[38;5;45mNone\u001b[0m, \u001b[38;5;34m32\u001b[0m)                  │           \u001b[38;5;34m2,080\u001b[0m │\n",
              "├──────────────────────────────────────┼─────────────────────────────┼─────────────────┤\n",
              "│ dense_7 (\u001b[38;5;33mDense\u001b[0m)                      │ (\u001b[38;5;45mNone\u001b[0m, \u001b[38;5;34m64\u001b[0m)                  │           \u001b[38;5;34m2,112\u001b[0m │\n",
              "├──────────────────────────────────────┼─────────────────────────────┼─────────────────┤\n",
              "│ dense_8 (\u001b[38;5;33mDense\u001b[0m)                      │ (\u001b[38;5;45mNone\u001b[0m, \u001b[38;5;34m10\u001b[0m)                  │             \u001b[38;5;34m650\u001b[0m │\n",
              "└──────────────────────────────────────┴─────────────────────────────┴─────────────────┘\n"
            ],
            "text/html": [
              "<pre style=\"white-space:pre;overflow-x:auto;line-height:normal;font-family:Menlo,'DejaVu Sans Mono',consolas,'Courier New',monospace\">┏━━━━━━━━━━━━━━━━━━━━━━━━━━━━━━━━━━━━━━┳━━━━━━━━━━━━━━━━━━━━━━━━━━━━━┳━━━━━━━━━━━━━━━━━┓\n",
              "┃<span style=\"font-weight: bold\"> Layer (type)                         </span>┃<span style=\"font-weight: bold\"> Output Shape                </span>┃<span style=\"font-weight: bold\">         Param # </span>┃\n",
              "┡━━━━━━━━━━━━━━━━━━━━━━━━━━━━━━━━━━━━━━╇━━━━━━━━━━━━━━━━━━━━━━━━━━━━━╇━━━━━━━━━━━━━━━━━┩\n",
              "│ dense_6 (<span style=\"color: #0087ff; text-decoration-color: #0087ff\">Dense</span>)                      │ (<span style=\"color: #00d7ff; text-decoration-color: #00d7ff\">None</span>, <span style=\"color: #00af00; text-decoration-color: #00af00\">32</span>)                  │           <span style=\"color: #00af00; text-decoration-color: #00af00\">2,080</span> │\n",
              "├──────────────────────────────────────┼─────────────────────────────┼─────────────────┤\n",
              "│ dense_7 (<span style=\"color: #0087ff; text-decoration-color: #0087ff\">Dense</span>)                      │ (<span style=\"color: #00d7ff; text-decoration-color: #00d7ff\">None</span>, <span style=\"color: #00af00; text-decoration-color: #00af00\">64</span>)                  │           <span style=\"color: #00af00; text-decoration-color: #00af00\">2,112</span> │\n",
              "├──────────────────────────────────────┼─────────────────────────────┼─────────────────┤\n",
              "│ dense_8 (<span style=\"color: #0087ff; text-decoration-color: #0087ff\">Dense</span>)                      │ (<span style=\"color: #00d7ff; text-decoration-color: #00d7ff\">None</span>, <span style=\"color: #00af00; text-decoration-color: #00af00\">10</span>)                  │             <span style=\"color: #00af00; text-decoration-color: #00af00\">650</span> │\n",
              "└──────────────────────────────────────┴─────────────────────────────┴─────────────────┘\n",
              "</pre>\n"
            ]
          },
          "metadata": {}
        },
        {
          "output_type": "display_data",
          "data": {
            "text/plain": [
              "\u001b[1m Total params: \u001b[0m\u001b[38;5;34m4,842\u001b[0m (18.91 KB)\n"
            ],
            "text/html": [
              "<pre style=\"white-space:pre;overflow-x:auto;line-height:normal;font-family:Menlo,'DejaVu Sans Mono',consolas,'Courier New',monospace\"><span style=\"font-weight: bold\"> Total params: </span><span style=\"color: #00af00; text-decoration-color: #00af00\">4,842</span> (18.91 KB)\n",
              "</pre>\n"
            ]
          },
          "metadata": {}
        },
        {
          "output_type": "display_data",
          "data": {
            "text/plain": [
              "\u001b[1m Trainable params: \u001b[0m\u001b[38;5;34m4,842\u001b[0m (18.91 KB)\n"
            ],
            "text/html": [
              "<pre style=\"white-space:pre;overflow-x:auto;line-height:normal;font-family:Menlo,'DejaVu Sans Mono',consolas,'Courier New',monospace\"><span style=\"font-weight: bold\"> Trainable params: </span><span style=\"color: #00af00; text-decoration-color: #00af00\">4,842</span> (18.91 KB)\n",
              "</pre>\n"
            ]
          },
          "metadata": {}
        },
        {
          "output_type": "display_data",
          "data": {
            "text/plain": [
              "\u001b[1m Non-trainable params: \u001b[0m\u001b[38;5;34m0\u001b[0m (0.00 B)\n"
            ],
            "text/html": [
              "<pre style=\"white-space:pre;overflow-x:auto;line-height:normal;font-family:Menlo,'DejaVu Sans Mono',consolas,'Courier New',monospace\"><span style=\"font-weight: bold\"> Non-trainable params: </span><span style=\"color: #00af00; text-decoration-color: #00af00\">0</span> (0.00 B)\n",
              "</pre>\n"
            ]
          },
          "metadata": {}
        }
      ]
    },
    {
      "cell_type": "markdown",
      "source": [
        "Explanation:\n",
        "\n",
        "- Layer Management: Add layers incrementally to a tf.keras.Sequential model.\n",
        "- Model Summary: Use model.summary() to display the model architecture and parameters."
      ],
      "metadata": {
        "id": "lX8jB_J6P_qW"
      }
    },
    {
      "cell_type": "markdown",
      "source": [
        "Key Points:\n",
        "- Layering Nested Operations: Create complex operations by nesting functions and organizing code for readability and maintainability.\n",
        "- Working with Multiple Layers: Build neural networks with multiple layers using tf.keras, leveraging the Sequential API to simplify layer management."
      ],
      "metadata": {
        "id": "iLntVf7pQrD7"
      }
    },
    {
      "cell_type": "markdown",
      "source": [
        "## Implementing Loss Functions\n",
        "\n",
        "Common Loss Functions"
      ],
      "metadata": {
        "id": "wC9Loz5uSG2O"
      }
    },
    {
      "cell_type": "markdown",
      "source": [
        "MSE(Mean squared error):Measures the average squared difference between the predicted and actual values."
      ],
      "metadata": {
        "id": "eZFvl2MYSLIl"
      }
    },
    {
      "cell_type": "code",
      "source": [
        "import tensorflow as tf\n",
        "\n",
        "#Usage of MSE\n",
        "y_true=tf.constant([1.0,2.0,3.0])\n",
        "y_pred=tf.constant([1.1,2.1,2.9])\n",
        "mse=tf.keras.losses.MeanSquaredError()\n",
        "loss=mse(y_true,y_pred)\n",
        "print(\"MSE loss:\",loss.numpy())"
      ],
      "metadata": {
        "colab": {
          "base_uri": "https://localhost:8080/"
        },
        "id": "IZzaUERCQvV1",
        "outputId": "084b31f6-df9b-4858-8e48-ac5a2aa37748"
      },
      "execution_count": null,
      "outputs": [
        {
          "output_type": "stream",
          "name": "stdout",
          "text": [
            "MSE loss: 0.009999989\n"
          ]
        }
      ]
    },
    {
      "cell_type": "markdown",
      "source": [
        "**Categorical Cross-Entropy:**Measues the difference between two probability distrubution for classification tasks."
      ],
      "metadata": {
        "id": "mlv4B0T7TlvA"
      }
    },
    {
      "cell_type": "code",
      "source": [
        "import tensorflow as tf\n",
        "\n",
        "#Usage of categorical cross-Entropy\n",
        "y_true=tf.constant([[0,1,0],[0,0,1]])\n",
        "y_pred=tf.constant([[0.05,0.95,0.0],[0.1,0.8,0.1]])\n",
        "cce=tf.keras.losses.CategoricalCrossentropy()\n",
        "loss=cce(y_true,y_pred)\n",
        "print(\"Categorical cross-Entropy Loss:\",loss.numpy())\n"
      ],
      "metadata": {
        "colab": {
          "base_uri": "https://localhost:8080/"
        },
        "id": "bRLG6uw-TlZY",
        "outputId": "65b75df3-9871-4a22-cde8-4e831afd6816"
      },
      "execution_count": null,
      "outputs": [
        {
          "output_type": "stream",
          "name": "stdout",
          "text": [
            "Categorical cross-Entropy Loss: 1.1769392\n"
          ]
        }
      ]
    },
    {
      "cell_type": "markdown",
      "source": [
        "**Custom Loss Functions:**Defines a custom loss function by creating a funtion that takes true labels and predictions as input and returns a scalar loss value."
      ],
      "metadata": {
        "id": "1b4GRwIHVNqQ"
      }
    },
    {
      "cell_type": "code",
      "source": [
        "import tensorflow as tf\n",
        "\n",
        "# Custom loss function\n",
        "def custom_loss_function(y_true, y_pred):\n",
        "    return tf.reduce_mean(tf.abs(y_true - y_pred))\n",
        "\n",
        "# Example usage of custom loss function\n",
        "y_true = tf.constant([1.0, 2.0, 3.0])\n",
        "y_pred = tf.constant([1.1, 2.1, 2.9])\n",
        "loss = custom_loss_function(y_true, y_pred)\n",
        "print(\"Custom Loss:\", loss.numpy())\n"
      ],
      "metadata": {
        "colab": {
          "base_uri": "https://localhost:8080/"
        },
        "id": "Q7u-y0v6VNTt",
        "outputId": "da946204-3468-41c3-df07-6530d81746f0"
      },
      "execution_count": null,
      "outputs": [
        {
          "output_type": "stream",
          "name": "stdout",
          "text": [
            "Custom Loss: 0.09999994\n"
          ]
        }
      ]
    },
    {
      "cell_type": "markdown",
      "source": [
        "#Tensorflow learning algorithms"
      ],
      "metadata": {
        "id": "z22SbdzReZZa"
      }
    },
    {
      "cell_type": "markdown",
      "source": [
        "The algorithms includes such as:\n",
        "- Linear Regression\n",
        "- Classification\n",
        "- Clustering\n",
        "- Hidden Markov Models"
      ],
      "metadata": {
        "id": "VMx3XszEkZuo"
      }
    },
    {
      "cell_type": "markdown",
      "source": [
        "#Linear Regression\n"
      ],
      "metadata": {
        "id": "i2RKdwX_ksQf"
      }
    },
    {
      "cell_type": "code",
      "source": [],
      "metadata": {
        "id": "wtytO95meqxp"
      },
      "execution_count": null,
      "outputs": []
    }
  ]
}